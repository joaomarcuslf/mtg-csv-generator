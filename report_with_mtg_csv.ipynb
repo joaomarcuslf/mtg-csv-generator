{
  "nbformat": 4,
  "nbformat_minor": 0,
  "metadata": {
    "colab": {
      "name": "report_with_mtg_csv.ipynb",
      "provenance": [],
      "authorship_tag": "ABX9TyPSFexG99m1lhW2wOQagRi7",
      "include_colab_link": true
    },
    "kernelspec": {
      "name": "python3",
      "display_name": "Python 3"
    }
  },
  "cells": [
    {
      "cell_type": "markdown",
      "metadata": {
        "id": "view-in-github",
        "colab_type": "text"
      },
      "source": [
        "<a href=\"https://colab.research.google.com/github/joaomarcuslf2/mtg-csv-generator/blob/main/report_with_mtg_csv.ipynb\" target=\"_parent\"><img src=\"https://colab.research.google.com/assets/colab-badge.svg\" alt=\"Open In Colab\"/></a>"
      ]
    },
    {
      "cell_type": "code",
      "metadata": {
        "id": "SRhx1nQKpzTn"
      },
      "source": [
        "import seaborn as sns\n",
        "import matplotlib.pyplot as plt\n",
        "import pandas as pd\n",
        "\n",
        "fonte = \"https://github.com/joaomarcuslf2/mtg-csv-generator/blob/main/files/mtg-card-list-2020-10-22.csv?raw=true\"\n",
        "df = pd.read_csv(fonte)\n",
        "\n",
        "df.head()"
      ],
      "execution_count": null,
      "outputs": []
    },
    {
      "cell_type": "code",
      "metadata": {
        "id": "9HKevw6jqIkb"
      },
      "source": [
        "def create_plot(data, x, y, title = \"\", figsize = (10, 6), order = [], hue = \"\"):\n",
        "  plt.figure(figsize=figsize)\n",
        "  if (len(order) > 1):\n",
        "    if (len(hue)):\n",
        "      sns.boxplot(x=x, y=y, data=data, order=order, hue=hue)\n",
        "    else:\n",
        "      sns.boxplot(x=x, y=y, data=data, order=order)\n",
        "  else:\n",
        "    if (len(hue)):\n",
        "      sns.boxplot(x=x, y=y, data=data, hue=hue)\n",
        "    else:\n",
        "      sns.boxplot(x=x, y=y, data=data)\n",
        "\n",
        "  plt.title(title)\n",
        "\n",
        "def create_bar_plot(data, search_key, new_key, title, xlabel, labels = [], bins = []):\n",
        "  copy_bins = [-1] + bins\n",
        "\n",
        "  data_copy = data.copy()\n",
        "\n",
        "  data_copy[new_key] = pd.cut(\n",
        "    data_copy[search_key],\n",
        "    bins=copy_bins,\n",
        "    labels=labels\n",
        "  )\n",
        "\n",
        "  count = data_copy[new_key].value_counts().values\n",
        "  index = data_copy[new_key].value_counts().index\n",
        "\n",
        "  plt.figure(figsize = (24, 4))\n",
        "  plt.subplot(1, 2, 1)\n",
        "  plt.bar(index, count, ec = \"k\", alpha = .6, color = \"#335878\")\n",
        "  plt.xlabel(xlabel)\n",
        "  plt.title(title)\n",
        "\n",
        "def create_pie_plot(data, search_key, new_key, title, labels = [], bins = [], colors = []):\n",
        "  copy_bins = [-1] + bins\n",
        "\n",
        "  data_copy = data.copy()\n",
        "\n",
        "  data_copy[new_key] = pd.cut(\n",
        "    data_copy[search_key],\n",
        "    bins=copy_bins,\n",
        "    labels=labels\n",
        "  )\n",
        "\n",
        "  count = data_copy[new_key].value_counts().values\n",
        "  index = data_copy[new_key].value_counts().index\n",
        "\n",
        "  plt.subplot(1, 2, 2)\n",
        "  plt.pie(count, \n",
        "          labels = list(index),  \n",
        "          colors = colors,\n",
        "          labeldistance = 1.1,\n",
        "          wedgeprops = {\"ec\": \"k\"}, \n",
        "          textprops = {\"fontsize\": 15}, \n",
        "    )\n",
        "  plt.axis(\"equal\")\n",
        "  plt.title(title)\n",
        "  plt.legend()"
      ],
      "execution_count": null,
      "outputs": []
    },
    {
      "cell_type": "code",
      "metadata": {
        "id": "LxihDzM5tk2l"
      },
      "source": [
        "df.groupby(\"artist\").filter(lambda x: len(x) > 200).head(5)"
      ],
      "execution_count": null,
      "outputs": []
    },
    {
      "cell_type": "code",
      "metadata": {
        "id": "uhden8fuqdzN"
      },
      "source": [
        "plot = df.groupby('artist').filter(lambda x: len(x) >= 100)['artist'].value_counts().plot(kind='bar', figsize=(30, 10))\n",
        "\n",
        "plot.set_title('Artist cards made above 150')\n",
        "plot.set_xlabel('Artist')\n",
        "plot.set_ylabel('Cards')"
      ],
      "execution_count": null,
      "outputs": []
    },
    {
      "cell_type": "code",
      "metadata": {
        "id": "QW1u9Zm1u7uc"
      },
      "source": [
        "plot = df.groupby('artist').filter(lambda x: len(x) < 150 and len(x) >= 100)['artist'].value_counts().plot(kind='bar', figsize=(30, 10))\n",
        "\n",
        "plot.set_title('Artist cards made between 150 and 100')\n",
        "plot.set_xlabel('Artist')\n",
        "plot.set_ylabel('Cards')"
      ],
      "execution_count": null,
      "outputs": []
    },
    {
      "cell_type": "code",
      "metadata": {
        "id": "0SUNLSC-vfOe"
      },
      "source": [
        "plot = df.groupby('artist').filter(lambda x: len(x) < 100 and len(x) >= 75)['artist'].value_counts().plot(kind='bar', figsize=(30, 10))\n",
        "\n",
        "plot.set_title('Artist cards made between 100 and 75')\n",
        "plot.set_xlabel('Artist')\n",
        "plot.set_ylabel('Cards')"
      ],
      "execution_count": null,
      "outputs": []
    },
    {
      "cell_type": "code",
      "metadata": {
        "id": "Q0BWw4pFvouV"
      },
      "source": [
        "plot = df.groupby('artist').filter(lambda x: len(x) < 75 and len(x) >= 50)['artist'].value_counts().plot(kind='bar', figsize=(30, 10))\n",
        "\n",
        "plot.set_title('Artist cards made between 75 and 50')\n",
        "plot.set_xlabel('Artist')\n",
        "plot.set_ylabel('Cards')"
      ],
      "execution_count": null,
      "outputs": []
    }
  ]
}
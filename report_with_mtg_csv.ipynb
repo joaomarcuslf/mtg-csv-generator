{
  "nbformat": 4,
  "nbformat_minor": 0,
  "metadata": {
    "colab": {
      "name": "report_with_mtg_csv.ipynb",
      "provenance": [],
      "authorship_tag": "ABX9TyMl+j0YNr8jPs9ZfizRE/T6",
      "include_colab_link": true
    },
    "kernelspec": {
      "name": "python3",
      "display_name": "Python 3"
    }
  },
  "cells": [
    {
      "cell_type": "markdown",
      "metadata": {
        "id": "view-in-github",
        "colab_type": "text"
      },
      "source": [
        "<a href=\"https://colab.research.google.com/github/joaomarcuslf2/mtg-csv-generator/blob/main/report_with_mtg_csv.ipynb\" target=\"_parent\"><img src=\"https://colab.research.google.com/assets/colab-badge.svg\" alt=\"Open In Colab\"/></a>"
      ]
    },
    {
      "cell_type": "code",
      "metadata": {
        "id": "SRhx1nQKpzTn"
      },
      "source": [
        "import seaborn as sns\n",
        "import matplotlib.pyplot as plt\n",
        "import pandas as pd\n",
        "from google.colab import files\n",
        "\n",
        "fonte = \"https://github.com/joaomarcuslf2/mtg-csv-generator/blob/main/files/mtg-card-list-2020-10-22.csv?raw=true\"\n",
        "df = pd.read_csv(fonte)\n",
        "\n",
        "df.head()"
      ],
      "execution_count": null,
      "outputs": []
    },
    {
      "cell_type": "code",
      "metadata": {
        "id": "9HKevw6jqIkb"
      },
      "source": [
        "def create_plot(data, x, y, title = \"\", figsize = (10, 6), order = [], hue = \"\"):\n",
        "  plt.figure(figsize=figsize)\n",
        "  if (len(order) > 1):\n",
        "    if (len(hue)):\n",
        "      sns.boxplot(x=x, y=y, data=data, order=order, hue=hue)\n",
        "    else:\n",
        "      sns.boxplot(x=x, y=y, data=data, order=order)\n",
        "  else:\n",
        "    if (len(hue)):\n",
        "      sns.boxplot(x=x, y=y, data=data, hue=hue)\n",
        "    else:\n",
        "      sns.boxplot(x=x, y=y, data=data)\n",
        "\n",
        "  plt.title(title)\n",
        "\n",
        "def create_bar_plot(data, search_key, new_key, title, xlabel, labels = [], bins = []):\n",
        "  copy_bins = [-1] + bins\n",
        "\n",
        "  data_copy = data.copy()\n",
        "\n",
        "  data_copy[new_key] = pd.cut(\n",
        "    data_copy[search_key],\n",
        "    bins=copy_bins,\n",
        "    labels=labels\n",
        "  )\n",
        "\n",
        "  count = data_copy[new_key].value_counts().values\n",
        "  index = data_copy[new_key].value_counts().index\n",
        "\n",
        "  plt.figure(figsize = (24, 4))\n",
        "  plt.subplot(1, 2, 1)\n",
        "  plt.bar(index, count, ec = \"k\", alpha = .6, color = \"#335878\")\n",
        "  plt.xlabel(xlabel)\n",
        "  plt.title(title)\n",
        "\n",
        "def create_pie_plot(data, search_key, new_key, title, labels = [], bins = [], colors = []):\n",
        "  copy_bins = [-1] + bins\n",
        "\n",
        "  data_copy = data.copy()\n",
        "\n",
        "  data_copy[new_key] = pd.cut(\n",
        "    data_copy[search_key],\n",
        "    bins=copy_bins,\n",
        "    labels=labels\n",
        "  )\n",
        "\n",
        "  count = data_copy[new_key].value_counts().values\n",
        "  index = data_copy[new_key].value_counts().index\n",
        "\n",
        "  plt.subplot(1, 2, 2)\n",
        "  plt.pie(count, \n",
        "          labels = list(index),  \n",
        "          colors = colors,\n",
        "          labeldistance = 1.1,\n",
        "          wedgeprops = {\"ec\": \"k\"}, \n",
        "          textprops = {\"fontsize\": 15}, \n",
        "    )\n",
        "  plt.axis(\"equal\")\n",
        "  plt.title(title)\n",
        "  plt.legend()\n",
        "\n",
        "def extract_types(data):\n",
        "  return data['type_line'].str.split(expand=True, pat=\"—\").stack().str.split(expand=True, pat=\"//\").stack().str.split(expand=True).stack()\n",
        "\n",
        "def save_plot_as_image(plot, filename):  \n",
        "  plt.savefig(filename)\n",
        "  files.download(filename) "
      ],
      "execution_count": null,
      "outputs": []
    },
    {
      "cell_type": "markdown",
      "metadata": {
        "id": "W7aRWPvQ2Q-q"
      },
      "source": [
        "# This plot will list type of cards made by Magali Villeneuve"
      ]
    },
    {
      "cell_type": "code",
      "metadata": {
        "id": "ekeTqX2a2pPQ",
        "outputId": "be1a92bf-f317-40cb-98d7-447d9938c797",
        "colab": {
          "base_uri": "https://localhost:8080/",
          "height": 598
        }
      },
      "source": [
        "cards_by_magali = df.query(\"artist == 'Magali Villeneuve'\")\n",
        "\n",
        "cards_by_magali.head()"
      ],
      "execution_count": 59,
      "outputs": [
        {
          "output_type": "execute_result",
          "data": {
            "text/html": [
              "<div>\n",
              "<style scoped>\n",
              "    .dataframe tbody tr th:only-of-type {\n",
              "        vertical-align: middle;\n",
              "    }\n",
              "\n",
              "    .dataframe tbody tr th {\n",
              "        vertical-align: top;\n",
              "    }\n",
              "\n",
              "    .dataframe thead th {\n",
              "        text-align: right;\n",
              "    }\n",
              "</style>\n",
              "<table border=\"1\" class=\"dataframe\">\n",
              "  <thead>\n",
              "    <tr style=\"text-align: right;\">\n",
              "      <th></th>\n",
              "      <th>Unnamed: 0</th>\n",
              "      <th>object</th>\n",
              "      <th>id</th>\n",
              "      <th>oracle_id</th>\n",
              "      <th>multiverse_ids</th>\n",
              "      <th>tcgplayer_id</th>\n",
              "      <th>cardmarket_id</th>\n",
              "      <th>name</th>\n",
              "      <th>lang</th>\n",
              "      <th>released_at</th>\n",
              "      <th>uri</th>\n",
              "      <th>scryfall_uri</th>\n",
              "      <th>layout</th>\n",
              "      <th>highres_image</th>\n",
              "      <th>image_uris</th>\n",
              "      <th>mana_cost</th>\n",
              "      <th>cmc</th>\n",
              "      <th>type_line</th>\n",
              "      <th>oracle_text</th>\n",
              "      <th>power</th>\n",
              "      <th>toughness</th>\n",
              "      <th>colors</th>\n",
              "      <th>color_identity</th>\n",
              "      <th>keywords</th>\n",
              "      <th>legalities</th>\n",
              "      <th>games</th>\n",
              "      <th>reserved</th>\n",
              "      <th>foil</th>\n",
              "      <th>nonfoil</th>\n",
              "      <th>oversized</th>\n",
              "      <th>promo</th>\n",
              "      <th>reprint</th>\n",
              "      <th>variation</th>\n",
              "      <th>set</th>\n",
              "      <th>set_name</th>\n",
              "      <th>set_type</th>\n",
              "      <th>set_uri</th>\n",
              "      <th>set_search_uri</th>\n",
              "      <th>scryfall_set_uri</th>\n",
              "      <th>rulings_uri</th>\n",
              "      <th>prints_search_uri</th>\n",
              "      <th>collector_number</th>\n",
              "      <th>digital</th>\n",
              "      <th>rarity</th>\n",
              "      <th>flavor_text</th>\n",
              "      <th>card_back_id</th>\n",
              "      <th>artist</th>\n",
              "      <th>artist_ids</th>\n",
              "      <th>illustration_id</th>\n",
              "      <th>border_color</th>\n",
              "      <th>frame</th>\n",
              "      <th>full_art</th>\n",
              "      <th>textless</th>\n",
              "      <th>booster</th>\n",
              "      <th>story_spotlight</th>\n",
              "      <th>prices</th>\n",
              "      <th>related_uris</th>\n",
              "      <th>purchase_uris</th>\n",
              "      <th>mtgo_id</th>\n",
              "      <th>mtgo_foil_id</th>\n",
              "      <th>produced_mana</th>\n",
              "      <th>edhrec_rank</th>\n",
              "      <th>card_faces</th>\n",
              "      <th>frame_effects</th>\n",
              "      <th>all_parts</th>\n",
              "      <th>arena_id</th>\n",
              "      <th>preview</th>\n",
              "      <th>watermark</th>\n",
              "      <th>promo_types</th>\n",
              "      <th>loyalty</th>\n",
              "      <th>color_indicator</th>\n",
              "      <th>printed_name</th>\n",
              "      <th>flavor_name</th>\n",
              "    </tr>\n",
              "  </thead>\n",
              "  <tbody>\n",
              "    <tr>\n",
              "      <th>59</th>\n",
              "      <td>59</td>\n",
              "      <td>card</td>\n",
              "      <td>a46a65e0-66a3-4896-8acc-0ad5e9927c40</td>\n",
              "      <td>b400700c-1d82-4721-a166-56f88ba6ad19</td>\n",
              "      <td>[442929]</td>\n",
              "      <td>162212.0</td>\n",
              "      <td>319747.0</td>\n",
              "      <td>Academy Journeymage</td>\n",
              "      <td>en</td>\n",
              "      <td>2018-04-27</td>\n",
              "      <td>https://api.scryfall.com/cards/a46a65e0-66a3-4...</td>\n",
              "      <td>https://scryfall.com/card/dom/41/academy-journ...</td>\n",
              "      <td>normal</td>\n",
              "      <td>True</td>\n",
              "      <td>{'small': 'https://c1.scryfall.com/file/scryfa...</td>\n",
              "      <td>{4}{U}</td>\n",
              "      <td>5.0</td>\n",
              "      <td>Creature — Human Wizard</td>\n",
              "      <td>This spell costs {1} less to cast if you contr...</td>\n",
              "      <td>3</td>\n",
              "      <td>2</td>\n",
              "      <td>['U']</td>\n",
              "      <td>['U']</td>\n",
              "      <td>[]</td>\n",
              "      <td>{'standard': 'not_legal', 'future': 'not_legal...</td>\n",
              "      <td>['arena', 'paper', 'mtgo']</td>\n",
              "      <td>False</td>\n",
              "      <td>True</td>\n",
              "      <td>True</td>\n",
              "      <td>False</td>\n",
              "      <td>False</td>\n",
              "      <td>False</td>\n",
              "      <td>False</td>\n",
              "      <td>dom</td>\n",
              "      <td>Dominaria</td>\n",
              "      <td>expansion</td>\n",
              "      <td>https://api.scryfall.com/sets/be1daba3-51c9-4e...</td>\n",
              "      <td>https://api.scryfall.com/cards/search?order=se...</td>\n",
              "      <td>https://scryfall.com/sets/dom?utm_source=api</td>\n",
              "      <td>https://api.scryfall.com/cards/a46a65e0-66a3-4...</td>\n",
              "      <td>https://api.scryfall.com/cards/search?order=re...</td>\n",
              "      <td>41</td>\n",
              "      <td>False</td>\n",
              "      <td>common</td>\n",
              "      <td>\"We don't choose who comes here. We choose how...</td>\n",
              "      <td>0aeebaf5-8c7d-4636-9e82-8c27447861f7</td>\n",
              "      <td>Magali Villeneuve</td>\n",
              "      <td>['9e6a55ae-be4d-4c23-a2a5-135737ffd879']</td>\n",
              "      <td>eebe6216-321d-4354-a187-98afe07ec7ac</td>\n",
              "      <td>black</td>\n",
              "      <td>2015</td>\n",
              "      <td>False</td>\n",
              "      <td>False</td>\n",
              "      <td>True</td>\n",
              "      <td>False</td>\n",
              "      <td>{'usd': '0.04', 'usd_foil': '0.21', 'eur': '0....</td>\n",
              "      <td>{'gatherer': 'https://gatherer.wizards.com/Pag...</td>\n",
              "      <td>{'tcgplayer': 'https://shop.tcgplayer.com/prod...</td>\n",
              "      <td>67547.0</td>\n",
              "      <td>NaN</td>\n",
              "      <td>NaN</td>\n",
              "      <td>9792.0</td>\n",
              "      <td>NaN</td>\n",
              "      <td>NaN</td>\n",
              "      <td>NaN</td>\n",
              "      <td>67186.0</td>\n",
              "      <td>NaN</td>\n",
              "      <td>NaN</td>\n",
              "      <td>NaN</td>\n",
              "      <td>NaN</td>\n",
              "      <td>NaN</td>\n",
              "      <td>NaN</td>\n",
              "      <td>NaN</td>\n",
              "    </tr>\n",
              "    <tr>\n",
              "      <th>99</th>\n",
              "      <td>99</td>\n",
              "      <td>card</td>\n",
              "      <td>969860ba-6923-4715-b065-81803bba3dd6</td>\n",
              "      <td>25edb501-11b5-4617-8a65-2eb4869cccd5</td>\n",
              "      <td>[441990]</td>\n",
              "      <td>161859.0</td>\n",
              "      <td>319439.0</td>\n",
              "      <td>Act of Heroism</td>\n",
              "      <td>en</td>\n",
              "      <td>2018-03-16</td>\n",
              "      <td>https://api.scryfall.com/cards/969860ba-6923-4...</td>\n",
              "      <td>https://scryfall.com/card/a25/1/act-of-heroism...</td>\n",
              "      <td>normal</td>\n",
              "      <td>True</td>\n",
              "      <td>{'small': 'https://c1.scryfall.com/file/scryfa...</td>\n",
              "      <td>{1}{W}</td>\n",
              "      <td>2.0</td>\n",
              "      <td>Instant</td>\n",
              "      <td>Untap target creature. It gets +2/+2 until end...</td>\n",
              "      <td>NaN</td>\n",
              "      <td>NaN</td>\n",
              "      <td>['W']</td>\n",
              "      <td>['W']</td>\n",
              "      <td>[]</td>\n",
              "      <td>{'standard': 'not_legal', 'future': 'not_legal...</td>\n",
              "      <td>['paper', 'mtgo']</td>\n",
              "      <td>False</td>\n",
              "      <td>True</td>\n",
              "      <td>True</td>\n",
              "      <td>False</td>\n",
              "      <td>False</td>\n",
              "      <td>True</td>\n",
              "      <td>False</td>\n",
              "      <td>a25</td>\n",
              "      <td>Masters 25</td>\n",
              "      <td>masters</td>\n",
              "      <td>https://api.scryfall.com/sets/41ee6e2f-69b3-4c...</td>\n",
              "      <td>https://api.scryfall.com/cards/search?order=se...</td>\n",
              "      <td>https://scryfall.com/sets/a25?utm_source=api</td>\n",
              "      <td>https://api.scryfall.com/cards/969860ba-6923-4...</td>\n",
              "      <td>https://api.scryfall.com/cards/search?order=re...</td>\n",
              "      <td>1</td>\n",
              "      <td>False</td>\n",
              "      <td>common</td>\n",
              "      <td>\"On every plane, there are those who run towar...</td>\n",
              "      <td>0aeebaf5-8c7d-4636-9e82-8c27447861f7</td>\n",
              "      <td>Magali Villeneuve</td>\n",
              "      <td>['9e6a55ae-be4d-4c23-a2a5-135737ffd879']</td>\n",
              "      <td>1d1e4b6d-8066-4eba-b3e7-5cf9a3d81263</td>\n",
              "      <td>black</td>\n",
              "      <td>2015</td>\n",
              "      <td>False</td>\n",
              "      <td>False</td>\n",
              "      <td>True</td>\n",
              "      <td>False</td>\n",
              "      <td>{'usd': '0.05', 'usd_foil': '0.23', 'eur': '0....</td>\n",
              "      <td>{'gatherer': 'https://gatherer.wizards.com/Pag...</td>\n",
              "      <td>{'tcgplayer': 'https://shop.tcgplayer.com/prod...</td>\n",
              "      <td>66916.0</td>\n",
              "      <td>66917.0</td>\n",
              "      <td>NaN</td>\n",
              "      <td>9955.0</td>\n",
              "      <td>NaN</td>\n",
              "      <td>NaN</td>\n",
              "      <td>NaN</td>\n",
              "      <td>NaN</td>\n",
              "      <td>NaN</td>\n",
              "      <td>set</td>\n",
              "      <td>NaN</td>\n",
              "      <td>NaN</td>\n",
              "      <td>NaN</td>\n",
              "      <td>NaN</td>\n",
              "      <td>NaN</td>\n",
              "    </tr>\n",
              "    <tr>\n",
              "      <th>416</th>\n",
              "      <td>416</td>\n",
              "      <td>card</td>\n",
              "      <td>36c8c075-9597-412e-9fc4-9d73b4405d12</td>\n",
              "      <td>d371031e-78be-4964-b521-b1eaa22a5480</td>\n",
              "      <td>[476252]</td>\n",
              "      <td>206945.0</td>\n",
              "      <td>431304.0</td>\n",
              "      <td>Alseid of Life's Bounty</td>\n",
              "      <td>en</td>\n",
              "      <td>2020-01-24</td>\n",
              "      <td>https://api.scryfall.com/cards/36c8c075-9597-4...</td>\n",
              "      <td>https://scryfall.com/card/thb/1/alseid-of-life...</td>\n",
              "      <td>normal</td>\n",
              "      <td>True</td>\n",
              "      <td>{'small': 'https://c1.scryfall.com/file/scryfa...</td>\n",
              "      <td>{W}</td>\n",
              "      <td>1.0</td>\n",
              "      <td>Enchantment Creature — Nymph</td>\n",
              "      <td>Lifelink\\n{1}, Sacrifice Alseid of Life's Boun...</td>\n",
              "      <td>1</td>\n",
              "      <td>1</td>\n",
              "      <td>['W']</td>\n",
              "      <td>['W']</td>\n",
              "      <td>['Lifelink']</td>\n",
              "      <td>{'standard': 'legal', 'future': 'legal', 'hist...</td>\n",
              "      <td>['arena', 'paper', 'mtgo']</td>\n",
              "      <td>False</td>\n",
              "      <td>True</td>\n",
              "      <td>True</td>\n",
              "      <td>False</td>\n",
              "      <td>False</td>\n",
              "      <td>False</td>\n",
              "      <td>False</td>\n",
              "      <td>thb</td>\n",
              "      <td>Theros Beyond Death</td>\n",
              "      <td>expansion</td>\n",
              "      <td>https://api.scryfall.com/sets/5f23a78d-cda1-46...</td>\n",
              "      <td>https://api.scryfall.com/cards/search?order=se...</td>\n",
              "      <td>https://scryfall.com/sets/thb?utm_source=api</td>\n",
              "      <td>https://api.scryfall.com/cards/36c8c075-9597-4...</td>\n",
              "      <td>https://api.scryfall.com/cards/search?order=re...</td>\n",
              "      <td>1</td>\n",
              "      <td>False</td>\n",
              "      <td>uncommon</td>\n",
              "      <td>\"Dawn-kissed, he nourishes the golden grain.\"\\...</td>\n",
              "      <td>0aeebaf5-8c7d-4636-9e82-8c27447861f7</td>\n",
              "      <td>Magali Villeneuve</td>\n",
              "      <td>['9e6a55ae-be4d-4c23-a2a5-135737ffd879']</td>\n",
              "      <td>787fdfd3-cd4f-46c5-b7d3-26816d0849d1</td>\n",
              "      <td>black</td>\n",
              "      <td>2015</td>\n",
              "      <td>False</td>\n",
              "      <td>False</td>\n",
              "      <td>True</td>\n",
              "      <td>False</td>\n",
              "      <td>{'usd': '0.46', 'usd_foil': '0.58', 'eur': '0....</td>\n",
              "      <td>{'gatherer': 'https://gatherer.wizards.com/Pag...</td>\n",
              "      <td>{'tcgplayer': 'https://shop.tcgplayer.com/prod...</td>\n",
              "      <td>79126.0</td>\n",
              "      <td>NaN</td>\n",
              "      <td>NaN</td>\n",
              "      <td>4145.0</td>\n",
              "      <td>NaN</td>\n",
              "      <td>['nyxtouched']</td>\n",
              "      <td>NaN</td>\n",
              "      <td>70512.0</td>\n",
              "      <td>{'source': 'HinaLyka', 'source_uri': 'https://...</td>\n",
              "      <td>NaN</td>\n",
              "      <td>NaN</td>\n",
              "      <td>NaN</td>\n",
              "      <td>NaN</td>\n",
              "      <td>NaN</td>\n",
              "      <td>NaN</td>\n",
              "    </tr>\n",
              "    <tr>\n",
              "      <th>489</th>\n",
              "      <td>489</td>\n",
              "      <td>card</td>\n",
              "      <td>c7a19fc5-20f3-48d2-8c12-e012d3b302e7</td>\n",
              "      <td>db5380ed-ba28-4ea2-abc3-4998e2022903</td>\n",
              "      <td>[413699]</td>\n",
              "      <td>118505.0</td>\n",
              "      <td>290238.0</td>\n",
              "      <td>Ancestral Mask</td>\n",
              "      <td>en</td>\n",
              "      <td>2016-06-10</td>\n",
              "      <td>https://api.scryfall.com/cards/c7a19fc5-20f3-4...</td>\n",
              "      <td>https://scryfall.com/card/ema/157/ancestral-ma...</td>\n",
              "      <td>normal</td>\n",
              "      <td>True</td>\n",
              "      <td>{'small': 'https://c1.scryfall.com/file/scryfa...</td>\n",
              "      <td>{2}{G}</td>\n",
              "      <td>3.0</td>\n",
              "      <td>Enchantment — Aura</td>\n",
              "      <td>Enchant creature\\nEnchanted creature gets +2/+...</td>\n",
              "      <td>NaN</td>\n",
              "      <td>NaN</td>\n",
              "      <td>['G']</td>\n",
              "      <td>['G']</td>\n",
              "      <td>['Enchant']</td>\n",
              "      <td>{'standard': 'not_legal', 'future': 'not_legal...</td>\n",
              "      <td>['paper', 'mtgo']</td>\n",
              "      <td>False</td>\n",
              "      <td>True</td>\n",
              "      <td>True</td>\n",
              "      <td>False</td>\n",
              "      <td>False</td>\n",
              "      <td>True</td>\n",
              "      <td>False</td>\n",
              "      <td>ema</td>\n",
              "      <td>Eternal Masters</td>\n",
              "      <td>masters</td>\n",
              "      <td>https://api.scryfall.com/sets/1f29f022-3ace-4c...</td>\n",
              "      <td>https://api.scryfall.com/cards/search?order=se...</td>\n",
              "      <td>https://scryfall.com/sets/ema?utm_source=api</td>\n",
              "      <td>https://api.scryfall.com/cards/c7a19fc5-20f3-4...</td>\n",
              "      <td>https://api.scryfall.com/cards/search?order=re...</td>\n",
              "      <td>157</td>\n",
              "      <td>False</td>\n",
              "      <td>uncommon</td>\n",
              "      <td>\"I pass to you all we have ever been. Go forth...</td>\n",
              "      <td>0aeebaf5-8c7d-4636-9e82-8c27447861f7</td>\n",
              "      <td>Magali Villeneuve</td>\n",
              "      <td>['9e6a55ae-be4d-4c23-a2a5-135737ffd879']</td>\n",
              "      <td>fffc1b66-1263-4f53-93f4-78192fc1041d</td>\n",
              "      <td>black</td>\n",
              "      <td>2015</td>\n",
              "      <td>False</td>\n",
              "      <td>False</td>\n",
              "      <td>True</td>\n",
              "      <td>False</td>\n",
              "      <td>{'usd': '1.24', 'usd_foil': '2.99', 'eur': '0....</td>\n",
              "      <td>{'gatherer': 'https://gatherer.wizards.com/Pag...</td>\n",
              "      <td>{'tcgplayer': 'https://shop.tcgplayer.com/prod...</td>\n",
              "      <td>60947.0</td>\n",
              "      <td>60948.0</td>\n",
              "      <td>NaN</td>\n",
              "      <td>1928.0</td>\n",
              "      <td>NaN</td>\n",
              "      <td>NaN</td>\n",
              "      <td>NaN</td>\n",
              "      <td>NaN</td>\n",
              "      <td>NaN</td>\n",
              "      <td>NaN</td>\n",
              "      <td>NaN</td>\n",
              "      <td>NaN</td>\n",
              "      <td>NaN</td>\n",
              "      <td>NaN</td>\n",
              "      <td>NaN</td>\n",
              "    </tr>\n",
              "    <tr>\n",
              "      <th>625</th>\n",
              "      <td>625</td>\n",
              "      <td>card</td>\n",
              "      <td>bca84fc4-4710-44c8-b90a-73ef888714d8</td>\n",
              "      <td>e7e69583-8326-417e-8a9a-6b917c8ba4b6</td>\n",
              "      <td>[495893]</td>\n",
              "      <td>222234.0</td>\n",
              "      <td>497485.0</td>\n",
              "      <td>Anowon, the Ruin Thief</td>\n",
              "      <td>en</td>\n",
              "      <td>2020-09-25</td>\n",
              "      <td>https://api.scryfall.com/cards/bca84fc4-4710-4...</td>\n",
              "      <td>https://scryfall.com/card/znc/1/anowon-the-rui...</td>\n",
              "      <td>normal</td>\n",
              "      <td>False</td>\n",
              "      <td>{'small': 'https://c1.scryfall.com/file/scryfa...</td>\n",
              "      <td>{2}{U}{B}</td>\n",
              "      <td>4.0</td>\n",
              "      <td>Legendary Creature — Vampire Rogue</td>\n",
              "      <td>Other Rogues you control get +1/+1.\\nWhenever ...</td>\n",
              "      <td>2</td>\n",
              "      <td>4</td>\n",
              "      <td>['B', 'U']</td>\n",
              "      <td>['B', 'U']</td>\n",
              "      <td>['Mill']</td>\n",
              "      <td>{'standard': 'not_legal', 'future': 'not_legal...</td>\n",
              "      <td>['paper']</td>\n",
              "      <td>False</td>\n",
              "      <td>True</td>\n",
              "      <td>True</td>\n",
              "      <td>False</td>\n",
              "      <td>False</td>\n",
              "      <td>False</td>\n",
              "      <td>False</td>\n",
              "      <td>znc</td>\n",
              "      <td>Zendikar Rising Commander</td>\n",
              "      <td>commander</td>\n",
              "      <td>https://api.scryfall.com/sets/25c6bd9b-4e10-40...</td>\n",
              "      <td>https://api.scryfall.com/cards/search?order=se...</td>\n",
              "      <td>https://scryfall.com/sets/znc?utm_source=api</td>\n",
              "      <td>https://api.scryfall.com/cards/bca84fc4-4710-4...</td>\n",
              "      <td>https://api.scryfall.com/cards/search?order=re...</td>\n",
              "      <td>1</td>\n",
              "      <td>False</td>\n",
              "      <td>mythic</td>\n",
              "      <td>NaN</td>\n",
              "      <td>0aeebaf5-8c7d-4636-9e82-8c27447861f7</td>\n",
              "      <td>Magali Villeneuve</td>\n",
              "      <td>['9e6a55ae-be4d-4c23-a2a5-135737ffd879']</td>\n",
              "      <td>f7e048a7-f6b3-4388-979d-6651f9f595c3</td>\n",
              "      <td>black</td>\n",
              "      <td>2015</td>\n",
              "      <td>False</td>\n",
              "      <td>False</td>\n",
              "      <td>False</td>\n",
              "      <td>False</td>\n",
              "      <td>{'usd': None, 'usd_foil': '1.37', 'eur': None,...</td>\n",
              "      <td>{'gatherer': 'https://gatherer.wizards.com/Pag...</td>\n",
              "      <td>{'tcgplayer': 'https://shop.tcgplayer.com/prod...</td>\n",
              "      <td>NaN</td>\n",
              "      <td>NaN</td>\n",
              "      <td>NaN</td>\n",
              "      <td>7206.0</td>\n",
              "      <td>NaN</td>\n",
              "      <td>['legendary']</td>\n",
              "      <td>NaN</td>\n",
              "      <td>NaN</td>\n",
              "      <td>{'source': 'The Command Zone', 'source_uri': '...</td>\n",
              "      <td>NaN</td>\n",
              "      <td>NaN</td>\n",
              "      <td>NaN</td>\n",
              "      <td>NaN</td>\n",
              "      <td>NaN</td>\n",
              "      <td>NaN</td>\n",
              "    </tr>\n",
              "  </tbody>\n",
              "</table>\n",
              "</div>"
            ],
            "text/plain": [
              "     Unnamed: 0 object  ... printed_name flavor_name\n",
              "59           59   card  ...          NaN         NaN\n",
              "99           99   card  ...          NaN         NaN\n",
              "416         416   card  ...          NaN         NaN\n",
              "489         489   card  ...          NaN         NaN\n",
              "625         625   card  ...          NaN         NaN\n",
              "\n",
              "[5 rows x 73 columns]"
            ]
          },
          "metadata": {
            "tags": []
          },
          "execution_count": 59
        }
      ]
    },
    {
      "cell_type": "code",
      "metadata": {
        "id": "py7EmE_K2qbX",
        "outputId": "0d6501da-5a0e-4088-8d27-2f2c5bd46d46",
        "colab": {
          "base_uri": "https://localhost:8080/",
          "height": 34
        }
      },
      "source": [
        "len(cards_by_magali)"
      ],
      "execution_count": 60,
      "outputs": [
        {
          "output_type": "execute_result",
          "data": {
            "text/plain": [
              "109"
            ]
          },
          "metadata": {
            "tags": []
          },
          "execution_count": 60
        }
      ]
    },
    {
      "cell_type": "code",
      "metadata": {
        "id": "CAv2ZYEsxsTa",
        "outputId": "eaf9eec3-6239-4b0f-f2a8-9a4d7ff80bc2",
        "colab": {
          "base_uri": "https://localhost:8080/",
          "height": 648
        }
      },
      "source": [
        "save_plot_as_image(extract_types(cards_by_magali).value_counts().plot(kind='bar', figsize=(30, 10)), 'magali-types-graph.png')"
      ],
      "execution_count": 71,
      "outputs": [
        {
          "output_type": "display_data",
          "data": {
            "application/javascript": [
              "\n",
              "    async function download(id, filename, size) {\n",
              "      if (!google.colab.kernel.accessAllowed) {\n",
              "        return;\n",
              "      }\n",
              "      const div = document.createElement('div');\n",
              "      const label = document.createElement('label');\n",
              "      label.textContent = `Downloading \"${filename}\": `;\n",
              "      div.appendChild(label);\n",
              "      const progress = document.createElement('progress');\n",
              "      progress.max = size;\n",
              "      div.appendChild(progress);\n",
              "      document.body.appendChild(div);\n",
              "\n",
              "      const buffers = [];\n",
              "      let downloaded = 0;\n",
              "\n",
              "      const channel = await google.colab.kernel.comms.open(id);\n",
              "      // Send a message to notify the kernel that we're ready.\n",
              "      channel.send({})\n",
              "\n",
              "      for await (const message of channel.messages) {\n",
              "        // Send a message to notify the kernel that we're ready.\n",
              "        channel.send({})\n",
              "        if (message.buffers) {\n",
              "          for (const buffer of message.buffers) {\n",
              "            buffers.push(buffer);\n",
              "            downloaded += buffer.byteLength;\n",
              "            progress.value = downloaded;\n",
              "          }\n",
              "        }\n",
              "      }\n",
              "      const blob = new Blob(buffers, {type: 'application/binary'});\n",
              "      const a = document.createElement('a');\n",
              "      a.href = window.URL.createObjectURL(blob);\n",
              "      a.download = filename;\n",
              "      div.appendChild(a);\n",
              "      a.click();\n",
              "      div.remove();\n",
              "    }\n",
              "  "
            ],
            "text/plain": [
              "<IPython.core.display.Javascript object>"
            ]
          },
          "metadata": {
            "tags": []
          }
        },
        {
          "output_type": "display_data",
          "data": {
            "application/javascript": [
              "download(\"download_f4d63756-1f81-470a-ae4d-7e6d34a6d38b\", \"magali-types-graph.png\", 39609)"
            ],
            "text/plain": [
              "<IPython.core.display.Javascript object>"
            ]
          },
          "metadata": {
            "tags": []
          }
        },
        {
          "output_type": "display_data",
          "data": {
            "image/png": "[encoded data removed]",
            "text/plain": [
              "<Figure size 2160x720 with 1 Axes>"
            ]
          },
          "metadata": {
            "tags": [],
            "needs_background": "light"
          }
        }
      ]
    },
    {
      "cell_type": "markdown",
      "metadata": {
        "id": "AR4ryRb72cHl"
      },
      "source": [
        "# This section will plot data about every artist"
      ]
    },
    {
      "cell_type": "code",
      "metadata": {
        "id": "XU6qfB9R7Uo8",
        "outputId": "a5fa5a85-1ad0-4ff8-f90a-8bbb7786b883",
        "colab": {
          "base_uri": "https://localhost:8080/",
          "height": 221
        }
      },
      "source": [
        "extract_types(df).value_counts()"
      ],
      "execution_count": 62,
      "outputs": [
        {
          "output_type": "execute_result",
          "data": {
            "text/plain": [
              "Creature       11277\n",
              "Instant         2601\n",
              "Enchantment     2551\n",
              "Human           2504\n",
              "Sorcery         2351\n",
              "               ...  \n",
              "Urza               1\n",
              "Mouse              1\n",
              "Raccoon            1\n",
              "Dack               1\n",
              "Aminatou           1\n",
              "Length: 378, dtype: int64"
            ]
          },
          "metadata": {
            "tags": []
          },
          "execution_count": 62
        }
      ]
    },
    {
      "cell_type": "code",
      "metadata": {
        "id": "XCq90_TL8aIq",
        "outputId": "23c6f808-11ba-4700-93ca-ce945c6c7558",
        "colab": {
          "base_uri": "https://localhost:8080/",
          "height": 637
        }
      },
      "source": [
        "types = extract_types(df)\n",
        "\n",
        "plot = (types.value_counts() == 1).value_counts().plot(kind='bar', figsize=(30, 10))\n",
        "\n",
        "plot.set_title('Unique types')\n",
        "plot.set_xlabel('Is Unique')\n",
        "plot.set_ylabel('Amount')\n",
        "\n",
        "save_plot_as_image(plot, 'unique-card-types.png')"
      ],
      "execution_count": 72,
      "outputs": [
        {
          "output_type": "display_data",
          "data": {
            "application/javascript": [
              "\n",
              "    async function download(id, filename, size) {\n",
              "      if (!google.colab.kernel.accessAllowed) {\n",
              "        return;\n",
              "      }\n",
              "      const div = document.createElement('div');\n",
              "      const label = document.createElement('label');\n",
              "      label.textContent = `Downloading \"${filename}\": `;\n",
              "      div.appendChild(label);\n",
              "      const progress = document.createElement('progress');\n",
              "      progress.max = size;\n",
              "      div.appendChild(progress);\n",
              "      document.body.appendChild(div);\n",
              "\n",
              "      const buffers = [];\n",
              "      let downloaded = 0;\n",
              "\n",
              "      const channel = await google.colab.kernel.comms.open(id);\n",
              "      // Send a message to notify the kernel that we're ready.\n",
              "      channel.send({})\n",
              "\n",
              "      for await (const message of channel.messages) {\n",
              "        // Send a message to notify the kernel that we're ready.\n",
              "        channel.send({})\n",
              "        if (message.buffers) {\n",
              "          for (const buffer of message.buffers) {\n",
              "            buffers.push(buffer);\n",
              "            downloaded += buffer.byteLength;\n",
              "            progress.value = downloaded;\n",
              "          }\n",
              "        }\n",
              "      }\n",
              "      const blob = new Blob(buffers, {type: 'application/binary'});\n",
              "      const a = document.createElement('a');\n",
              "      a.href = window.URL.createObjectURL(blob);\n",
              "      a.download = filename;\n",
              "      div.appendChild(a);\n",
              "      a.click();\n",
              "      div.remove();\n",
              "    }\n",
              "  "
            ],
            "text/plain": [
              "<IPython.core.display.Javascript object>"
            ]
          },
          "metadata": {
            "tags": []
          }
        },
        {
          "output_type": "display_data",
          "data": {
            "application/javascript": [
              "download(\"download_87173bde-703c-4c3e-b9f7-66f0eb22cbc3\", \"unique-card-types.png\", 15469)"
            ],
            "text/plain": [
              "<IPython.core.display.Javascript object>"
            ]
          },
          "metadata": {
            "tags": []
          }
        },
        {
          "output_type": "display_data",
          "data": {
            "image/png": "[encoded data removed]",
            "text/plain": [
              "<Figure size 2160x720 with 1 Axes>"
            ]
          },
          "metadata": {
            "tags": [],
            "needs_background": "light"
          }
        }
      ]
    },
    {
      "cell_type": "code",
      "metadata": {
        "id": "LxihDzM5tk2l"
      },
      "source": [
        "df.groupby(\"artist\").filter(lambda x: len(x) > 200).head(5)"
      ],
      "execution_count": null,
      "outputs": []
    },
    {
      "cell_type": "code",
      "metadata": {
        "id": "uhden8fuqdzN"
      },
      "source": [
        "plot = df.groupby('artist').filter(lambda x: len(x) >= 100)['artist'].value_counts().plot(kind='bar', figsize=(30, 10))\n",
        "\n",
        "plot.set_title('Artist cards made above 150')\n",
        "plot.set_xlabel('Artist')\n",
        "plot.set_ylabel('Cards')\n",
        "\n",
        "save_plot_as_image(plot, 'artist-arts-above-150.png')"
      ],
      "execution_count": null,
      "outputs": []
    },
    {
      "cell_type": "code",
      "metadata": {
        "id": "QW1u9Zm1u7uc"
      },
      "source": [
        "plot = df.groupby('artist').filter(lambda x: len(x) < 150 and len(x) >= 100)['artist'].value_counts().plot(kind='bar', figsize=(30, 10))\n",
        "\n",
        "plot.set_title('Artist cards made between 150 and 100')\n",
        "plot.set_xlabel('Artist')\n",
        "plot.set_ylabel('Cards')\n",
        "\n",
        "save_plot_as_image(plot, 'artist-arts-between-150-100.png')"
      ],
      "execution_count": null,
      "outputs": []
    },
    {
      "cell_type": "code",
      "metadata": {
        "id": "0SUNLSC-vfOe"
      },
      "source": [
        "plot = df.groupby('artist').filter(lambda x: len(x) < 100 and len(x) >= 75)['artist'].value_counts().plot(kind='bar', figsize=(30, 10))\n",
        "\n",
        "plot.set_title('Artist cards made between 100 and 75')\n",
        "plot.set_xlabel('Artist')\n",
        "plot.set_ylabel('Cards')\n",
        "\n",
        "save_plot_as_image(plot, 'artist-arts-between-100-75.png')"
      ],
      "execution_count": null,
      "outputs": []
    },
    {
      "cell_type": "code",
      "metadata": {
        "id": "Q0BWw4pFvouV"
      },
      "source": [
        "plot = df.groupby('artist').filter(lambda x: len(x) < 75 and len(x) >= 50)['artist'].value_counts().plot(kind='bar', figsize=(30, 10))\n",
        "\n",
        "plot.set_title('Artist cards made between 75 and 50')\n",
        "plot.set_xlabel('Artist')\n",
        "plot.set_ylabel('Cards')\n",
        "\n",
        "save_plot_as_image(plot, 'artist-arts-between-75-50.png')"
      ],
      "execution_count": null,
      "outputs": []
    }
  ]
}
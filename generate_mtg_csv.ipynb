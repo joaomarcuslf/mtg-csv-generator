{
  "nbformat": 4,
  "nbformat_minor": 0,
  "metadata": {
    "colab": {
      "name": "generate_mtg_csv.ipynb",
      "provenance": [],
      "private_outputs": true,
      "authorship_tag": "ABX9TyMkkFp1+BzjQ+VvQ5p9dp1B",
      "include_colab_link": true
    },
    "kernelspec": {
      "name": "python3",
      "display_name": "Python 3"
    }
  },
  "cells": [
    {
      "cell_type": "markdown",
      "metadata": {
        "id": "view-in-github",
        "colab_type": "text"
      },
      "source": [
        "<a href=\"https://colab.research.google.com/github/joaomarcuslf2/mtg-csv-generator/blob/main/generate_mtg_csv.ipynb\" target=\"_parent\"><img src=\"https://colab.research.google.com/assets/colab-badge.svg\" alt=\"Open In Colab\"/></a>"
      ]
    },
    {
      "cell_type": "code",
      "metadata": {
        "id": "5IcUIlcVKwaO"
      },
      "source": [
        "\n",
        "import requests\n",
        "import csv\n",
        "import json\n",
        "\n",
        "data = []\n",
        "\n",
        "base_url = \"https://api.scryfall.com/cards/search?q=cmc%3E=0&unique=cards\"\n",
        "\n",
        "response = requests.get(base_url)\n",
        "content = response.json()\n",
        "\n",
        "data = data + content['data']\n",
        "\n",
        "while content['has_more']:\n",
        "  base_url = content['next_page']\n",
        "\n",
        "  response = requests.get(base_url)\n",
        "  content = response.json()\n",
        "\n",
        "  data = data + content['data']\n"
      ],
      "execution_count": null,
      "outputs": []
    },
    {
      "cell_type": "code",
      "metadata": {
        "id": "omUnlMKgUahI"
      },
      "source": [
        "len(data)"
      ],
      "execution_count": null,
      "outputs": []
    },
    {
      "cell_type": "code",
      "metadata": {
        "id": "_AWsXHrdVuo1"
      },
      "source": [
        "data[0].keys()"
      ],
      "execution_count": null,
      "outputs": []
    },
    {
      "cell_type": "code",
      "metadata": {
        "id": "Fqxjt-QFgtNU"
      },
      "source": [
        "import datetime\n",
        "import pandas as pd\n",
        "from google.colab import files\n",
        "\n",
        "df = pd.DataFrame(data)\n",
        "\n",
        "filename = \"mtg-card-list-\" + str(datetime.date.today()) +\".csv\"\n",
        "\n",
        "df.to_csv(filename) \n",
        "files.download(filename)"
      ],
      "execution_count": null,
      "outputs": []
    }
  ]
}